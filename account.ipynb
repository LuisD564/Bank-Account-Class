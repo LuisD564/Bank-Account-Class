{
  "metadata": {
    "kernelspec": {
      "name": "python",
      "display_name": "Python (Pyodide)",
      "language": "python"
    },
    "language_info": {
      "codemirror_mode": {
        "name": "python",
        "version": 3
      },
      "file_extension": ".py",
      "mimetype": "text/x-python",
      "name": "python",
      "nbconvert_exporter": "python",
      "pygments_lexer": "ipython3",
      "version": "3.8"
    }
  },
  "nbformat_minor": 4,
  "nbformat": 4,
  "cells": [
    {
      "cell_type": "code",
      "source": "from datetime import datetime, timezone, timedelta",
      "metadata": {
        "trusted": true
      },
      "outputs": [],
      "execution_count": 1
    },
    {
      "cell_type": "code",
      "source": "class Timezone:\n    def __init__(self, preferred_timezone):\n        self.preferred_timezone = preferred_timezone \n        self.timezone = None\n        \n    def set_timezone(self, h_offset, name):\n        self.timezone = timezone(timedelta(hours=h_offset), name)\n\n    def current_dt(self):\n        return datetime.now(self.timezone)\n        \n    @staticmethod\n    def current_dt_utc():\n        return datetime.now(timezone.utc)\n\n    def get_formatted_time(self):\n        timestamp = self.current_dt_utc()\n        return timestamp.strftime(\"%Y%m%d%H%M%S%f\")\n    \n\nclass Account:\n    def __init__(self, first_name, last_name, account_number, preferred_timezone=0):\n        self._first_name = first_name\n        self._last_name = last_name\n        self.account_number = account_number\n        self.preferred_timezone = preferred_timezone\n        self.timezone = Timezone(self.preferred_timezone)\n        self._money = 1000\n        self.number_of_transactions = 0\n        self._interest_rate = 0.03\n\n    @property\n    def full_name(self):\n        return f'{self._first_name} {self._last_name}'\n\n    @property\n    def first_name(self):\n        return self._first_name\n\n    @first_name.setter\n    def first_name(self, first_name):\n        if isinstance(first_name, str):\n            self._first_name = first_name\n        else:\n            print(f'Could not set the first name due to unsupport name type: {type(first_name).__name__}')\n\n    @property\n    def last_name(self):\n        return self._last_name\n\n    @last_name.setter\n    def last_name(self, last_name):\n        if isinstance(last_name, str):\n            self._last_name = last_name\n        else:\n            print(f'Could not set the last name due to unsupport name type: {type(last_name).__name__}')\n\n    @property\n    def money(self):\n        return self._money\n\n    @money.setter\n    def money(self, money):\n        self._money = money\n        \n    @property\n    def interest_rate(self):\n        return self._interest_rate\n        \n    def deposit(self, amount):\n        self.money += amount\n        self.execute_transaction('D', self.timezone.get_formatted_time())\n\n    def withdrawal(self, amount):\n        if self.money > amount:\n            self.money -= amount\n            self.execute_transaction('W', self.timezone.get_formatted_time())\n\n        else:\n            self.execute_transaction('X', self.timezone.get_formatted_time())\n            print(\"Declined transaction. A withdrawal cannot exceed the account's balance.\")\n\n    def deposit_interest(self):\n        self.money += self.money * self.interest_rate \n        self.execute_transaction('I', self.timezone.get_formatted_time())\n\n    def execute_transaction(self, transaction_type, timestamp):\n        self.number_of_transactions += 1\n        print(f\"{transaction_type}-{self.account_number}-{timestamp}-{self.number_of_transactions}\")\n\n    def get_timestamp_object(self, timestamp):\n        class TimestampClass:\n            ACCOUNT_NUMBER = timestamp.split('-')[1]\n            TRANSACTION_CODE = timestamp.split('-')[0]\n            TRANSACTION_ID = timestamp.split('-')[-1]\n            TIME_UTC = datetime.strptime(timestamp.split('-')[2], \"%Y%m%d%H%M%S%f\").strftime(\"%Y-%m-%dT%H:%M:%S:%f\")\n\n        timestamp_object = TimestampClass()\n        return timestamp_object\n        \n        ",
      "metadata": {
        "trusted": true
      },
      "outputs": [],
      "execution_count": 27
    },
    {
      "cell_type": "code",
      "source": "",
      "metadata": {
        "trusted": true
      },
      "outputs": [],
      "execution_count": 41
    },
    {
      "cell_type": "code",
      "source": "a = Account('Luis', 'Dias', 1234)",
      "metadata": {
        "trusted": true
      },
      "outputs": [],
      "execution_count": 28
    },
    {
      "cell_type": "code",
      "source": "print(a.first_name, a.last_name, a.account_number, a.timezone.timezone, a.money, a.number_of_transactions, a.interest_rate)",
      "metadata": {
        "trusted": true
      },
      "outputs": [
        {
          "name": "stdout",
          "text": "Luis Dias 1234 None 1300 2 0.03\n",
          "output_type": "stream"
        }
      ],
      "execution_count": 9
    },
    {
      "cell_type": "code",
      "source": "a.deposit(500)",
      "metadata": {
        "trusted": true
      },
      "outputs": [
        {
          "name": "stdout",
          "text": "D-1234-20240605084859191000-1\n",
          "output_type": "stream"
        }
      ],
      "execution_count": 5
    },
    {
      "cell_type": "code",
      "source": "a.money",
      "metadata": {
        "trusted": true
      },
      "outputs": [
        {
          "execution_count": 8,
          "output_type": "execute_result",
          "data": {
            "text/plain": "1300"
          },
          "metadata": {}
        }
      ],
      "execution_count": 8
    },
    {
      "cell_type": "code",
      "source": "a.withdrawal(200)",
      "metadata": {
        "trusted": true
      },
      "outputs": [
        {
          "name": "stdout",
          "text": "W-1234-20240605084908517000-2\n",
          "output_type": "stream"
        }
      ],
      "execution_count": 7
    },
    {
      "cell_type": "code",
      "source": "timestamp_object = a.get_timestamp_object(\"D-1234-20240604101634983000-6\")\n",
      "metadata": {
        "trusted": true
      },
      "outputs": [],
      "execution_count": 29
    },
    {
      "cell_type": "code",
      "source": "timestamp_object.TIME_UTC",
      "metadata": {
        "trusted": true
      },
      "outputs": [
        {
          "execution_count": 31,
          "output_type": "execute_result",
          "data": {
            "text/plain": "'2024-06-04T10:16:34:983000'"
          },
          "metadata": {}
        }
      ],
      "execution_count": 31
    }
  ]
}